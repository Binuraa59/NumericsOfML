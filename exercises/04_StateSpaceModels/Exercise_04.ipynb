{
 "cells": [
  {
   "cell_type": "markdown",
   "id": "c82fd154",
   "metadata": {},
   "source": [
    "This cell contains LaTeX macros +++\n",
    "$$\n",
    "\\newcommand{\\N}{\\mathcal{N}}\n",
    "\\renewcommand{\\vec}[1]{\\boldsymbol{#1}}          % vector\n",
    "\\newcommand{\\mat}[1]{\\boldsymbol{#1}}  \n",
    "\\newcommand{\\g}{\\mid}\n",
    "$$\n",
    "+++++++++++++++++++++++++++"
   ]
  },
  {
   "cell_type": "markdown",
   "id": "165cc5d6",
   "metadata": {},
   "source": [
    "## Build the state-space model\n",
    "for states and measurements\n",
    "$$\n",
    "\\vec{x}_k = \\begin{pmatrix}u_k \\\\ v_k\\end{pmatrix}\\in \\mathbb{R}^D \\qquad \\vec{y}_k = \\begin{pmatrix}\\hat{u}_k\\\\\\hat{v}_k\\end{pmatrix}\\in \\mathbb{R}^d \\qquad k = 1, \\dots, T\n",
    "$$"
   ]
  },
  {
   "cell_type": "code",
   "execution_count": null,
   "id": "0dceccb1",
   "metadata": {},
   "outputs": [],
   "source": []
  },
  {
   "cell_type": "markdown",
   "id": "60b4897e",
   "metadata": {},
   "source": [
    "### Initial distribution\n",
    "\n",
    "$$\\boldsymbol{x}_0 \\sim \\N(\\vec{\\mu}_0, \\mat{\\Sigma}_0)$$\n",
    "with\n",
    "$$\n",
    "\\begin{align}\n",
    "\\vec\\mu_0 &= \\left[-1 ~~ 1\\right]^\\top\\\\\n",
    "\\mat\\Sigma_0 &= \\begin{pmatrix}1.0 & 0.0 \\\\ 0.0 & 1.0\\end{pmatrix}\n",
    "\\end{align}\n",
    "$$"
   ]
  },
  {
   "cell_type": "code",
   "execution_count": null,
   "id": "7a593568",
   "metadata": {},
   "outputs": [],
   "source": []
  },
  {
   "cell_type": "markdown",
   "id": "95eda7e6",
   "metadata": {},
   "source": [
    "### Dynamics\n",
    "$$\\boldsymbol{x}_k \\mid \\boldsymbol{x}_{k-1} \\sim \\N(f(\\vec{x}_{k-1}), \\mat{Q}_{k-1})$$\n",
    "with\n",
    "$$\n",
    "\\begin{align}\n",
    "f(\\vec{x}_k) = f\\left(\\begin{pmatrix}u_k \\\\ v_k\\end{pmatrix}\\right) &= \n",
    "\\begin{pmatrix}\n",
    " u_k + 0.1 \\cdot (c \\cdot (u_k - u_k^3 / 3 + v_k))\\\\\n",
    " v_k + 0.1 \\cdot (-(1 / c) \\cdot (u_k - a - b \\cdot v_k))\n",
    "\\end{pmatrix}\\\\[2mm]\n",
    "    \\mat{Q}_k = \\mat{Q} &=\n",
    "    \\begin{pmatrix}\n",
    "        0.01 &  0.0\\\\\n",
    "         0.0 & 0.01\n",
    "    \\end{pmatrix}\n",
    "\\end{align}\n",
    "$$\n",
    "and\n",
    "$$\n",
    "\\begin{align}\n",
    "    a &= 0.2 \\\\\n",
    "    b &= 0.2 \\\\\n",
    "    c &= 3.0\n",
    "\\end{align}\n",
    "$$"
   ]
  },
  {
   "cell_type": "code",
   "execution_count": null,
   "id": "7c297d3f",
   "metadata": {},
   "outputs": [],
   "source": []
  },
  {
   "cell_type": "markdown",
   "id": "b81c3d0b",
   "metadata": {},
   "source": [
    "### Measurement model\n",
    "\n",
    "$$\\boldsymbol{y}_k \\mid \\boldsymbol{x}_k \\sim \\N(h(\\vec{x}_k), \\mat{R}_k)$$\n",
    "with\n",
    "$$\n",
    "\\begin{align}\n",
    "h(\\vec{x}_k) = \\vec{x}_k\\\\[2mm]\n",
    "    \\mat{R}_k = \\begin{pmatrix}1 & 0 \\\\ 0 & 1\\end{pmatrix}\n",
    "\\end{align}\n",
    "$$"
   ]
  },
  {
   "cell_type": "code",
   "execution_count": null,
   "id": "71af3bd1",
   "metadata": {},
   "outputs": [],
   "source": []
  },
  {
   "cell_type": "markdown",
   "id": "ea64cc94",
   "metadata": {},
   "source": [
    "## Simulate a trajectory and draw noisy observations"
   ]
  },
  {
   "cell_type": "code",
   "execution_count": null,
   "id": "82f5bbc0",
   "metadata": {},
   "outputs": [],
   "source": []
  },
  {
   "cell_type": "code",
   "execution_count": null,
   "id": "3d83647e",
   "metadata": {},
   "outputs": [],
   "source": [
    "# ground_truth, observations = simulate()"
   ]
  },
  {
   "cell_type": "markdown",
   "id": "447cc31e",
   "metadata": {},
   "source": [
    "## Plot groundtruth and data"
   ]
  },
  {
   "cell_type": "code",
   "execution_count": null,
   "id": "2934f570",
   "metadata": {},
   "outputs": [],
   "source": []
  },
  {
   "cell_type": "markdown",
   "id": "e2d1b7db",
   "metadata": {},
   "source": [
    "## Filtering — The extended Kalman Filter"
   ]
  },
  {
   "cell_type": "markdown",
   "id": "a2c82c8f",
   "metadata": {},
   "source": [
    "### Prediction\n",
    "$$\n",
    "\\begin{align}\n",
    "      \\vec{\\mu}^- & = f(\\vec{\\mu}_{k-1}) \\\\\n",
    "      \\mat{\\Sigma}^- &= \\mat{J}_f(\\vec{\\mu}_{k-1})\\mat{\\Sigma}_{k-1}\\mat{J}_f(\\vec{\\mu}_{k-1})^\\top + \\mat{Q}_{k-1}\n",
    "\\end{align}\n",
    "$$"
   ]
  },
  {
   "cell_type": "code",
   "execution_count": null,
   "id": "161e91a9",
   "metadata": {},
   "outputs": [],
   "source": []
  },
  {
   "cell_type": "markdown",
   "id": "8ac7b28c",
   "metadata": {},
   "source": [
    "### Correction\n",
    "$$\n",
    "\\begin{align}\n",
    "  \\hat{\\vec{y}}_k &= h(\\vec{\\mu}^-_k) \\\\\n",
    "  \\mat{S}_k &= {\\mat{J}_h(\\vec{\\mu}_k^-)}\\mat{\\Sigma}^-_k{\\mat{J}_h(\\vec{\\mu}_k^-)^\\top} + \\mat{R}_k \\\\\n",
    "  \\mat{K}_k &= \\mat{\\Sigma}^-_k{\\mat{J}_h(\\vec{\\mu}_k^-)^\\top}\\mat{S}^{-1}_k \\\\\n",
    "  \\vec{\\mu}_k &= \\vec{\\mu}^-_k + \\mat{K}_k (\\vec{y}_k - \\hat{\\vec{y}}_k)\\\\\n",
    "  \\mat{\\Sigma}_k &= \\mat{\\Sigma}^-_k - \\mat{K}_k\\mat{S}_k\\mat{K}_k^\\top\n",
    "\\end{align}\n",
    "$$"
   ]
  },
  {
   "cell_type": "code",
   "execution_count": null,
   "id": "4fbf4203",
   "metadata": {},
   "outputs": [],
   "source": []
  },
  {
   "cell_type": "markdown",
   "id": "e9b13dc3",
   "metadata": {},
   "source": [
    "## Compute filtering estimate"
   ]
  },
  {
   "cell_type": "code",
   "execution_count": null,
   "id": "6e00f47b",
   "metadata": {},
   "outputs": [],
   "source": [
    "# for ..."
   ]
  },
  {
   "cell_type": "markdown",
   "id": "c1641b54",
   "metadata": {},
   "source": [
    "## Plot filtering estimate"
   ]
  },
  {
   "cell_type": "code",
   "execution_count": null,
   "id": "7b719ea5",
   "metadata": {},
   "outputs": [],
   "source": []
  },
  {
   "cell_type": "markdown",
   "id": "4c3ed89d",
   "metadata": {},
   "source": [
    "---"
   ]
  },
  {
   "cell_type": "markdown",
   "id": "6cdb5bb9",
   "metadata": {},
   "source": [
    "## Smoothing — The Rauch-Tung-Striebel Smoother"
   ]
  },
  {
   "cell_type": "markdown",
   "id": "9b69ecd7",
   "metadata": {},
   "source": [
    "$$\n",
    "\\begin{align}\n",
    "\\mat{G}_{k} &= \\mat{\\Sigma}_{k}\\mat{J}_f(\\vec{\\mu}_k)^\\top \\left[\\mat{\\Sigma}^-_{k+1}\\right]^{-1} \\\\\n",
    "\\vec{\\xi}_k &= \\vec{\\mu}_k + \\mat{G}_{k} \\left(\\vec{\\xi}_{k+1} - \\vec{\\mu}^-_{k+1}\\right)\\\\\n",
    "\\mat{\\Lambda}_{k} &= \\mat{\\Sigma}_{k} + \\mat{G}_{k}\\left(\\mat{\\Lambda}_{k+1} - \\mat{\\Sigma}^-_{k+1}\\right)\\mat{G}_k^\\top\n",
    "\\end{align}\n",
    "$$"
   ]
  },
  {
   "cell_type": "code",
   "execution_count": null,
   "id": "9e6ed9a1",
   "metadata": {},
   "outputs": [],
   "source": []
  },
  {
   "cell_type": "markdown",
   "id": "ecf9e3fc",
   "metadata": {},
   "source": [
    "## Compute the smoothing posterior"
   ]
  },
  {
   "cell_type": "code",
   "execution_count": null,
   "id": "8627620c",
   "metadata": {},
   "outputs": [],
   "source": [
    "# for ..."
   ]
  },
  {
   "cell_type": "markdown",
   "id": "cb608e5f",
   "metadata": {},
   "source": [
    "## Plot the smoothing posterior"
   ]
  },
  {
   "cell_type": "code",
   "execution_count": null,
   "id": "b51ee1ec",
   "metadata": {
    "scrolled": false
   },
   "outputs": [],
   "source": []
  },
  {
   "cell_type": "code",
   "execution_count": null,
   "id": "04d9bc07",
   "metadata": {},
   "outputs": [],
   "source": []
  }
 ],
 "metadata": {
  "@webio": {
   "lastCommId": null,
   "lastKernelId": null
  },
  "kernelspec": {
   "display_name": "Python 3 (ipykernel)",
   "language": "python",
   "name": "python3"
  },
  "language_info": {
   "codemirror_mode": {
    "name": "ipython",
    "version": 3
   },
   "file_extension": ".py",
   "mimetype": "text/x-python",
   "name": "python",
   "nbconvert_exporter": "python",
   "pygments_lexer": "ipython3",
   "version": "3.8.11"
  }
 },
 "nbformat": 4,
 "nbformat_minor": 5
}
