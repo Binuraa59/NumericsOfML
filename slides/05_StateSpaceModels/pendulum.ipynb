{
 "cells": [
  {
   "cell_type": "code",
   "execution_count": null,
   "id": "ddd232de",
   "metadata": {},
   "outputs": [],
   "source": [
    "using Pkg; Pkg.activate(\".\")"
   ]
  },
  {
   "cell_type": "code",
   "execution_count": null,
   "id": "72a74f5e",
   "metadata": {
    "scrolled": false
   },
   "outputs": [],
   "source": [
    "using LinearAlgebra\n",
    "using Random\n",
    "using Distributions\n",
    "using ForwardDiff\n",
    "\n",
    "using Plots\n",
    "\n",
    "Random.seed!(12345)"
   ]
  },
  {
   "cell_type": "code",
   "execution_count": null,
   "id": "de5b8185",
   "metadata": {},
   "outputs": [],
   "source": [
    "include(\"nbstyle.jl\")\n",
    "include(\"util.jl\")"
   ]
  },
  {
   "cell_type": "markdown",
   "id": "c82fd154",
   "metadata": {},
   "source": [
    "$$\n",
    "\\newcommand{\\N}{\\mathcal{N}}\n",
    "\\renewcommand{\\vec}[1]{\\boldsymbol{#1}}          % vector\n",
    "\\newcommand{\\mat}[1]{\\boldsymbol{#1}}  \n",
    "\\newcommand{\\g}{\\mid}\n",
    "$$"
   ]
  },
  {
   "cell_type": "markdown",
   "id": "165cc5d6",
   "metadata": {},
   "source": [
    "## Build the state-space model\n",
    "for states and measurements\n",
    "$$\n",
    "\\vec{x}_k = \\begin{pmatrix}\\theta_k \\\\ \\dot{\\theta}_k\\end{pmatrix}\\in \\mathbb{R}^D \\qquad \\vec{y}_k = \\hat{\\theta}_k\\in \\mathbb{R}^d \\qquad k = 1, \\dots, T\n",
    "$$"
   ]
  },
  {
   "cell_type": "code",
   "execution_count": null,
   "id": "0dceccb1",
   "metadata": {},
   "outputs": [],
   "source": [
    "d, D = 1, 2;"
   ]
  },
  {
   "cell_type": "markdown",
   "id": "60b4897e",
   "metadata": {},
   "source": [
    "### Initial distribution\n",
    "\n",
    "$$\\boldsymbol{x}_0 \\sim \\N(\\vec{\\mu}_0, \\mat{\\Sigma}_0)$$\n",
    "with\n",
    "$$\n",
    "\\begin{align}\n",
    "\\vec\\mu_0 &= \\left[0 ~~ -3\\right]^\\top\\\\\n",
    "\\mat\\Sigma_0 &= \\begin{pmatrix}0.1 & 0.0 \\\\ 0.0 & 1.0\\end{pmatrix}\n",
    "\\end{align}\n",
    "$$"
   ]
  },
  {
   "cell_type": "code",
   "execution_count": null,
   "id": "7a593568",
   "metadata": {},
   "outputs": [],
   "source": [
    "μ₀ = [0.0, -3.0]\n",
    "Σ₀ = [0.1 0.0\n",
    "      0.0 1.0];"
   ]
  },
  {
   "cell_type": "markdown",
   "id": "95eda7e6",
   "metadata": {},
   "source": [
    "### Dynamics\n",
    "$$\\boldsymbol{x}_k \\mid \\boldsymbol{x}_{k-1} \\sim \\N(f(\\vec{x}_{k-1}), \\mat{Q}_{k-1})$$\n",
    "with\n",
    "$$\n",
    "\\begin{align}\n",
    "f(\\vec{x}_k) = f\\left(\\begin{pmatrix}\\theta_k \\\\ \\dot\\theta_k\\end{pmatrix}\\right) &= \n",
    "\\begin{pmatrix}\n",
    "\\theta_k + \\dot\\theta_k \\cdot dt \\\\\n",
    "\\dot\\theta_k + \\left(-\\alpha \\cdot \\dot\\theta_k - \\frac{g}{L} \\cdot \\sin(\\theta_k)\\right) \\cdot dt\n",
    "\\end{pmatrix}\\\\[2mm]\n",
    "    \\mat{Q}_k = \\mat{Q} &=\n",
    "    \\begin{pmatrix}\n",
    "        σ_q \\cdot dt^3/3 &  σ_q \\cdot dt^2/2\\\\\n",
    "         σ_q \\cdot dt^2/2 &  σ_q \\cdot dt\n",
    "    \\end{pmatrix}\n",
    "\\end{align}\n",
    "$$\n",
    "and\n",
    "$$\n",
    "\\begin{align}\n",
    "    dt &= \\lvert t_{k+1} - t_k \\rvert\\\\\n",
    "    σ_q &= 0.4\\\\\n",
    "    g &\\approx 9.81 \\qquad \\tag{gravitational constant} \\\\\n",
    "    \\alpha &= 0.3 \\tag{air resistance}\\\\\n",
    "    L &= 3.0 \\tag{rod length}\n",
    "\\end{align}\n",
    "$$"
   ]
  },
  {
   "cell_type": "code",
   "execution_count": null,
   "id": "7c297d3f",
   "metadata": {},
   "outputs": [],
   "source": [
    "dt = 0.05\n",
    "g = 9.81\n",
    "σ_q = 0.4\n",
    "air_resistance = 0.3\n",
    "rod_length = 3.0\n",
    "\n",
    "function f(x)\n",
    "    angle, angular_velocity = x\n",
    "    next_angle = angle + angular_velocity * dt\n",
    "    next_angular_velocity = angular_velocity + (-air_resistance * angular_velocity - (g / rod_length) * sin(angle)) * dt\n",
    "    return [next_angle, next_angular_velocity]\n",
    "end\n",
    "\n",
    "Q = [σ_q * dt^3/3   σ_q * dt^2/2\n",
    "     σ_q * dt^2/2   σ_q * dt];"
   ]
  },
  {
   "cell_type": "markdown",
   "id": "b81c3d0b",
   "metadata": {},
   "source": [
    "### Measurement model\n",
    "\n",
    "$$\\boldsymbol{y}_k \\mid \\boldsymbol{x}_k \\sim \\N(h(\\vec{x}_k), \\mat{R}_k)$$\n",
    "with\n",
    "$$\n",
    "\\begin{align}\n",
    "h(\\vec{x}_k) = h\\left(\\begin{pmatrix}\\theta_k\\\\\\dot\\theta_k\\end{pmatrix}\\right) &=\n",
    "\\theta_k\\\\[2mm]\n",
    "    \\mat{R}_k = \\sigma_r &= 0.08\n",
    "\\end{align}\n",
    "$$"
   ]
  },
  {
   "cell_type": "code",
   "execution_count": null,
   "id": "71af3bd1",
   "metadata": {},
   "outputs": [],
   "source": [
    "function h(x)\n",
    "    angle, angular_velocity = x\n",
    "    return angle\n",
    "end\n",
    "\n",
    "σ_r = 0.08;"
   ]
  },
  {
   "cell_type": "markdown",
   "id": "ea64cc94",
   "metadata": {},
   "source": [
    "## Simulate a trajectory and draw noisy observations"
   ]
  },
  {
   "cell_type": "code",
   "execution_count": null,
   "id": "3d83647e",
   "metadata": {},
   "outputs": [],
   "source": [
    "ground_truth, observations = simulate_nonlinear(f, Q, h, σ_r, μ₀, Σ₀, 300, rng=MersenneTwister(12));\n",
    "state_idcs = 1:length(ground_truth)\n",
    "data_idcs = unique(rand(state_idcs[1:end-1], 15)); "
   ]
  },
  {
   "cell_type": "code",
   "execution_count": null,
   "id": "2934f570",
   "metadata": {},
   "outputs": [],
   "source": [
    "T = 0.0:dt:300*dt\n",
    "plot(\n",
    "    T, \n",
    "    [y[1] for y in ground_truth];\n",
    "    label=\"True Location\",\n",
    "    xlabel=\"time\",\n",
    "    ylabel=\"angle\",\n",
    "    legend=:bottomright,\n",
    "    gt_args...\n",
    ")\n",
    "scatter!(\n",
    "    T[data_idcs], \n",
    "    [y[1] for y in observations[data_idcs]];\n",
    "    label=\"Measurements\",\n",
    "    data_args...\n",
    ")"
   ]
  },
  {
   "cell_type": "markdown",
   "id": "e2d1b7db",
   "metadata": {},
   "source": [
    "## Filtering — The extended Kalman Filter"
   ]
  },
  {
   "cell_type": "markdown",
   "id": "a2c82c8f",
   "metadata": {},
   "source": [
    "### Prediction\n",
    "$$\n",
    "\\begin{align}\n",
    "      \\vec{\\mu}^- & = f(\\vec{\\mu}_{k-1}) \\\\\n",
    "      \\mat{\\Sigma}^- &= \\mat{J}_f(\\vec{\\mu}_{k-1})\\mat{\\Sigma}_{k-1}\\mat{J}_f(\\vec{\\mu}_{k-1})^\\top + \\mat{Q}_{k-1}\n",
    "\\end{align}\n",
    "$$"
   ]
  },
  {
   "cell_type": "code",
   "execution_count": null,
   "id": "161e91a9",
   "metadata": {},
   "outputs": [],
   "source": [
    "function ekf_predict(μ, Σ, f, Q)\n",
    "    μ⁻ = f(μ)\n",
    "    Jf = ForwardDiff.jacobian(f, μ)\n",
    "    Σ⁻ = Jf * Σ * Jf' + Q\n",
    "    return μ⁻, Σ⁻\n",
    "end"
   ]
  },
  {
   "cell_type": "markdown",
   "id": "8ac7b28c",
   "metadata": {},
   "source": [
    "### Correction\n",
    "$$\n",
    "\\begin{align}\n",
    "  \\hat{\\vec{y}}_k &= h(\\vec{\\mu}^-_k) \\\\\n",
    "  \\mat{S}_k &= {\\mat{J}_h(\\vec{\\mu}_k^-)}\\mat{\\Sigma}^-_k{\\mat{J}_h(\\vec{\\mu}_k^-)^\\top} + \\mat{R}_k \\\\\n",
    "  \\mat{K}_k &= \\mat{\\Sigma}^-_k{\\mat{J}_h(\\vec{\\mu}_k^-)^\\top}\\mat{S}^{-1}_k \\\\\n",
    "  \\vec{\\mu}_k &= \\vec{\\mu}^-_k + \\mat{K}_k (\\vec{y}_k - \\hat{\\vec{y}}_k)\\\\\n",
    "  \\mat{\\Sigma}_k &= \\mat{\\Sigma}^-_k - \\mat{K}_k\\mat{S}_k\\mat{K}_k^\\top\n",
    "\\end{align}\n",
    "$$"
   ]
  },
  {
   "cell_type": "code",
   "execution_count": null,
   "id": "4fbf4203",
   "metadata": {},
   "outputs": [],
   "source": [
    "function ekf_correct(μ⁻, Σ⁻, h, R, y)\n",
    "    Jh = ForwardDiff.gradient(h, μ⁻)'\n",
    "    y_hat = h(μ⁻)\n",
    "    S = Jh * Σ⁻ * Jh' + R\n",
    "    K = Σ⁻ * Jh' / S\n",
    "    μ = μ⁻ + K * (y - y_hat)\n",
    "    Σ = Σ⁻ - K * S * K'\n",
    "    return μ, Σ\n",
    "end"
   ]
  },
  {
   "cell_type": "code",
   "execution_count": null,
   "id": "6e00f47b",
   "metadata": {},
   "outputs": [],
   "source": [
    "filter_estimate = [(μ₀, Σ₀)]\n",
    "predicted_moments = []\n",
    "for k in state_idcs[2:end]\n",
    "    # start from last point\n",
    "    μ, Σ = filter_estimate[end]\n",
    "    # predict\n",
    "    μ⁻, Σ⁻ = ekf_predict(μ, Σ, f, Q)\n",
    "    push!(predicted_moments, (μ⁻, Σ⁻))\n",
    "    # if there's data: correct\n",
    "    if k ∈ data_idcs\n",
    "        push!(filter_estimate, ekf_correct(μ⁻, Σ⁻, h, σ_r, observations[k]))\n",
    "    else\n",
    "        push!(filter_estimate, (μ⁻, Σ⁻))\n",
    "    end\n",
    "end"
   ]
  },
  {
   "cell_type": "code",
   "execution_count": null,
   "id": "d9da4cad",
   "metadata": {},
   "outputs": [],
   "source": [
    "filt_anim_parts = []\n",
    "filt_anim = @animate for i in 1:length(filter_estimate)\n",
    "    frame = plot(\n",
    "        T, \n",
    "        [y[1] for y in ground_truth];\n",
    "        label=\"True Location\",\n",
    "        legend=:bottomright,\n",
    "        gt_args...\n",
    "    )\n",
    "    scatter!(\n",
    "        frame, \n",
    "        T[data_idcs], \n",
    "        [y[1] for y in observations[data_idcs]];\n",
    "        label=\"Measurements\",\n",
    "        data_args...\n",
    "    )\n",
    "    plot!(\n",
    "        frame,\n",
    "        T[1:i], \n",
    "        [y[1] for (y, s) in filter_estimate[1:i]];\n",
    "        ribbon=[2sqrt.(s[1,1]) for (y, s) in filter_estimate[1:i]],\n",
    "        label=\"Filter Estimate\",\n",
    "        filter_estimate_args...\n",
    "        \n",
    "    )\n",
    "    \n",
    "    if i < length(filter_estimate)\n",
    "        predicted_future = [filter_estimate[i]]\n",
    "        for (j, _t) in enumerate(T[i+1:end])\n",
    "            m, S = predicted_future[end]\n",
    "            push!(\n",
    "                predicted_future,\n",
    "                ekf_predict(m, S, f, Q)\n",
    "            )\n",
    "        end\n",
    "        plot!(\n",
    "            frame,\n",
    "            T[i:end],\n",
    "            [y[1] for (y, s) in predicted_future]; \n",
    "            ribbon=[2sqrt.(s[1,1]) for (y, s) in predicted_future], \n",
    "            label=\"Predicted estimate\",\n",
    "            prediction_estimate_args...\n",
    "        )\n",
    "\n",
    "    end\n",
    "    \n",
    "    push!(filt_anim_parts, frame)\n",
    "end\n",
    "gif(filt_anim, \"out/filt_pendulum.gif\", fps=20)"
   ]
  },
  {
   "cell_type": "code",
   "execution_count": null,
   "id": "7b719ea5",
   "metadata": {},
   "outputs": [],
   "source": [
    "plot(\n",
    "    T, \n",
    "    [y[1] for (y, s) in filter_estimate];\n",
    "    ribbon=[2sqrt.(s[1, 1]) for (y, s) in filter_estimate],\n",
    "    xlabel=\"time\",\n",
    "    ylabel=\"angle\",\n",
    "    label=\"Filter Estimate\",\n",
    "    legend=:bottomright,\n",
    "    filter_estimate_args...\n",
    ")\n",
    "plot!(\n",
    "    T, \n",
    "    [y[1] + 2sqrt(s[1,1]) for (y, s) in filter_estimate];\n",
    "    label=nothing,\n",
    "    filter_cred_interval_args...\n",
    ")\n",
    "plot!(\n",
    "    T, \n",
    "    [y[1] - 2sqrt(s[1,1]) for (y, s) in filter_estimate];\n",
    "    label=nothing,\n",
    "    filter_cred_interval_args...\n",
    ")\n",
    "plot!(T, \n",
    "    [y[1] for y in ground_truth]; \n",
    "    label=\"True Location\",\n",
    "    gt_args...\n",
    ")\n",
    "scatter!(\n",
    "    T[data_idcs], \n",
    "    [y[1] for y in observations[data_idcs]]; \n",
    "    label=\"Measurements\", \n",
    "    data_args...\n",
    ")\n"
   ]
  },
  {
   "cell_type": "code",
   "execution_count": null,
   "id": "291f1a32",
   "metadata": {},
   "outputs": [],
   "source": []
  },
  {
   "cell_type": "code",
   "execution_count": null,
   "id": "6e6f8171",
   "metadata": {},
   "outputs": [],
   "source": []
  },
  {
   "cell_type": "markdown",
   "id": "6cdb5bb9",
   "metadata": {},
   "source": [
    "## Smoothing — The Rauch-Tung-Striebel Smoother"
   ]
  },
  {
   "cell_type": "markdown",
   "id": "9b69ecd7",
   "metadata": {},
   "source": [
    "$$\n",
    "\\begin{align}\n",
    "\\mat{G}_{k} &= \\mat{\\Sigma}_{k}\\mat{J}_f(\\vec{\\mu}_k)^\\top \\left[\\mat{\\Sigma}^-_{k+1}\\right]^{-1} \\\\\n",
    "\\vec{\\xi}_k &= \\vec{\\mu}_k + \\mat{G}_{k} \\left(\\vec{\\xi}_{k+1} - \\vec{\\mu}^-_{k+1}\\right)\\\\\n",
    "\\mat{\\Lambda}_{k} &= \\mat{\\Sigma}_{k} + \\mat{G}_{k}\\left(\\mat{\\Lambda}_{k+1} - \\mat{\\Sigma}^-_{k+1}\\right)\\mat{G}_k^\\top\n",
    "\\end{align}\n",
    "$$"
   ]
  },
  {
   "cell_type": "code",
   "execution_count": null,
   "id": "26e9d1e4",
   "metadata": {},
   "outputs": [],
   "source": [
    "function ekf_smooth(μ, Σ, ξ_next, Λ_next, μ⁻, Σ⁻, f, Q)\n",
    "    Jf = ForwardDiff.jacobian(f, μ)    \n",
    "    G = Σ * Jf' / Symmetric(Σ⁻)\n",
    "    ξ = μ + G * (ξ_next - μ⁻)\n",
    "    Λ = Σ + G * (Λ_next - Σ⁻) * G'\n",
    "    return ξ, Λ\n",
    "end"
   ]
  },
  {
   "cell_type": "code",
   "execution_count": null,
   "id": "8627620c",
   "metadata": {},
   "outputs": [],
   "source": [
    "smoother_estimate = [filter_estimate[end]]\n",
    "for k in reverse(state_idcs[1:end-1])\n",
    "    ξ_next, Λ_next = smoother_estimate[1]\n",
    "    μ⁻, Σ⁻ = predicted_moments[k]\n",
    "    μ, Σ = filter_estimate[k]\n",
    "    pushfirst!(smoother_estimate, ekf_smooth(μ, Σ, ξ_next, Λ_next, μ⁻, Σ⁻, f, Q))\n",
    "end"
   ]
  },
  {
   "cell_type": "code",
   "execution_count": null,
   "id": "dcf4d0fd",
   "metadata": {},
   "outputs": [],
   "source": [
    "filt2smooth_anim_parts = []\n",
    "filt2smooth_anim = @animate for i in reverse(2:length(smoother_estimate)-1)\n",
    "    frame = plot(\n",
    "        T, \n",
    "        [y[1] for y in ground_truth];\n",
    "        xlabel=\"time\",\n",
    "        ylabel=\"angle\",\n",
    "        label=\"True Location\",\n",
    "        legend=:bottomright,\n",
    "        gt_args...\n",
    "    )\n",
    "    \n",
    "    plot!(\n",
    "        frame,\n",
    "        T[1:i], \n",
    "        [y[1] for (y, s) in filter_estimate[1:i]];\n",
    "        ribbon=[2*sqrt.(s[1, 1]) for (y, s) in filter_estimate[1:i]],\n",
    "        label=\"Filter estimate\",\n",
    "        filter_estimate_args...\n",
    "    )\n",
    "    plot!(\n",
    "        frame,\n",
    "        T[i-1:end], \n",
    "        [y[1] for (y, s) in pushfirst!(deepcopy(smoother_estimate[i:end]), filter_estimate[i-1])];\n",
    "        ribbon=[2sqrt.(s[1, 1]) for (y, s) in pushfirst!(deepcopy(smoother_estimate[i:end]), filter_estimate[i-1])],\n",
    "        label=\"Smoother estimate\",\n",
    "        smoother_estimate_args...\n",
    "    )\n",
    "    scatter!(\n",
    "        frame, \n",
    "        T[data_idcs],\n",
    "        [y[1] for y in observations[data_idcs]];\n",
    "        label=\"Measurements\",\n",
    "        data_args...\n",
    "    )\n",
    "    push!(filt2smooth_anim_parts, frame)\n",
    "end\n",
    "gif(filt2smooth_anim, \"out/filt2smooth_anim_pendulum.gif\", fps=20)"
   ]
  },
  {
   "cell_type": "code",
   "execution_count": null,
   "id": "b51ee1ec",
   "metadata": {
    "scrolled": false
   },
   "outputs": [],
   "source": [
    "plot(\n",
    "    T, \n",
    "    [y[1] for (y, s) in smoother_estimate];\n",
    "    ribbon=[2sqrt.(s[1, 1]) for (y, s) in smoother_estimate],\n",
    "    label=\"Smoother Estimate\",\n",
    "    xlabel=\"time\",\n",
    "    ylabel=\"angle\",\n",
    "    legend=:bottomright,\n",
    "    smoother_estimate_args...\n",
    ")\n",
    "plot!(\n",
    "    T, \n",
    "    [y[1] for y in ground_truth]; \n",
    "    label=\"True Location\",\n",
    "    gt_args...\n",
    ")\n",
    "scatter!(\n",
    "    T[data_idcs], \n",
    "    [y[1] for y in observations[data_idcs]]; \n",
    "    label=\"Measurements\",\n",
    "    data_args...\n",
    ")"
   ]
  },
  {
   "cell_type": "code",
   "execution_count": null,
   "id": "40111c4c",
   "metadata": {},
   "outputs": [],
   "source": []
  },
  {
   "cell_type": "code",
   "execution_count": null,
   "id": "3a7c2ace",
   "metadata": {},
   "outputs": [],
   "source": []
  }
 ],
 "metadata": {
  "@webio": {
   "lastCommId": null,
   "lastKernelId": null
  },
  "kernelspec": {
   "display_name": "Julia 1.8.2",
   "language": "julia",
   "name": "julia-1.8"
  },
  "language_info": {
   "file_extension": ".jl",
   "mimetype": "application/julia",
   "name": "julia",
   "version": "1.8.2"
  }
 },
 "nbformat": 4,
 "nbformat_minor": 5
}
